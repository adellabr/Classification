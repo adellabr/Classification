{
  "nbformat": 4,
  "nbformat_minor": 0,
  "metadata": {
    "colab": {
      "provenance": [],
      "authorship_tag": "ABX9TyO10mLuVE26xggc5PqV5vid",
      "include_colab_link": true
    },
    "kernelspec": {
      "name": "python3",
      "display_name": "Python 3"
    },
    "language_info": {
      "name": "python"
    }
  },
  "cells": [
    {
      "cell_type": "markdown",
      "metadata": {
        "id": "view-in-github",
        "colab_type": "text"
      },
      "source": [
        "<a href=\"https://colab.research.google.com/github/adellabr/Classification/blob/main/ML4.ipynb\" target=\"_parent\"><img src=\"https://colab.research.google.com/assets/colab-badge.svg\" alt=\"Open In Colab\"/></a>"
      ]
    },
    {
      "cell_type": "markdown",
      "source": [
        "1. Download data from Don’tGetKicked competition."
      ],
      "metadata": {
        "id": "shlW5D1-z7me"
      }
    },
    {
      "cell_type": "code",
      "source": [
        "import pandas as pd\n",
        "import numpy as np\n",
        "from google.colab import drive\n",
        "from sklearn.preprocessing import OneHotEncoder\n",
        "from sklearn.preprocessing import MinMaxScaler\n",
        "from sklearn.linear_model import LogisticRegression\n",
        "from sklearn.naive_bayes import GaussianNB\n",
        "from sklearn.neighbors import KNeighborsClassifier\n",
        "from sklearn.metrics import roc_auc_score\n",
        "from sklearn.neighbors import KDTree\n",
        "from sklearn.model_selection import GridSearchCV\n",
        "from sklearn.metrics import make_scorer\n",
        "from sklearn.metrics import auc"
      ],
      "metadata": {
        "id": "Bk6REuCiz-PF"
      },
      "execution_count": null,
      "outputs": []
    },
    {
      "cell_type": "code",
      "source": [
        "drive.mount ('/content/drive', force_remount=True)\n",
        "df = pd.read_csv('/content/drive/My Drive/Colab Notebooks/ML4_5/data/training.csv')"
      ],
      "metadata": {
        "colab": {
          "base_uri": "https://localhost:8080/"
        },
        "id": "jWkqVMaJ0JXf",
        "outputId": "c854666b-5d84-416f-b662-ce5931fe7b90"
      },
      "execution_count": null,
      "outputs": [
        {
          "output_type": "stream",
          "name": "stdout",
          "text": [
            "Mounted at /content/drive\n"
          ]
        }
      ]
    },
    {
      "cell_type": "code",
      "source": [
        "df.info()"
      ],
      "metadata": {
        "colab": {
          "base_uri": "https://localhost:8080/"
        },
        "id": "wqmhe4-u7r7O",
        "outputId": "a58e1a55-a236-4ded-ce3b-d4c7b91d3d42"
      },
      "execution_count": null,
      "outputs": [
        {
          "output_type": "stream",
          "name": "stdout",
          "text": [
            "<class 'pandas.core.frame.DataFrame'>\n",
            "RangeIndex: 72983 entries, 0 to 72982\n",
            "Data columns (total 34 columns):\n",
            " #   Column                             Non-Null Count  Dtype  \n",
            "---  ------                             --------------  -----  \n",
            " 0   RefId                              72983 non-null  int64  \n",
            " 1   IsBadBuy                           72983 non-null  int64  \n",
            " 2   PurchDate                          72983 non-null  object \n",
            " 3   Auction                            72983 non-null  object \n",
            " 4   VehYear                            72983 non-null  int64  \n",
            " 5   VehicleAge                         72983 non-null  int64  \n",
            " 6   Make                               72983 non-null  object \n",
            " 7   Model                              72983 non-null  object \n",
            " 8   Trim                               70623 non-null  object \n",
            " 9   SubModel                           72975 non-null  object \n",
            " 10  Color                              72975 non-null  object \n",
            " 11  Transmission                       72974 non-null  object \n",
            " 12  WheelTypeID                        69814 non-null  float64\n",
            " 13  WheelType                          69809 non-null  object \n",
            " 14  VehOdo                             72983 non-null  int64  \n",
            " 15  Nationality                        72978 non-null  object \n",
            " 16  Size                               72978 non-null  object \n",
            " 17  TopThreeAmericanName               72978 non-null  object \n",
            " 18  MMRAcquisitionAuctionAveragePrice  72965 non-null  float64\n",
            " 19  MMRAcquisitionAuctionCleanPrice    72965 non-null  float64\n",
            " 20  MMRAcquisitionRetailAveragePrice   72965 non-null  float64\n",
            " 21  MMRAcquisitonRetailCleanPrice      72965 non-null  float64\n",
            " 22  MMRCurrentAuctionAveragePrice      72668 non-null  float64\n",
            " 23  MMRCurrentAuctionCleanPrice        72668 non-null  float64\n",
            " 24  MMRCurrentRetailAveragePrice       72668 non-null  float64\n",
            " 25  MMRCurrentRetailCleanPrice         72668 non-null  float64\n",
            " 26  PRIMEUNIT                          3419 non-null   object \n",
            " 27  AUCGUART                           3419 non-null   object \n",
            " 28  BYRNO                              72983 non-null  int64  \n",
            " 29  VNZIP1                             72983 non-null  int64  \n",
            " 30  VNST                               72983 non-null  object \n",
            " 31  VehBCost                           72983 non-null  float64\n",
            " 32  IsOnlineSale                       72983 non-null  int64  \n",
            " 33  WarrantyCost                       72983 non-null  int64  \n",
            "dtypes: float64(10), int64(9), object(15)\n",
            "memory usage: 18.9+ MB\n"
          ]
        }
      ]
    },
    {
      "cell_type": "code",
      "source": [
        "df.describe(include='all')"
      ],
      "metadata": {
        "colab": {
          "base_uri": "https://localhost:8080/",
          "height": 461
        },
        "id": "WhL7Lhj9MUt5",
        "outputId": "78a93a90-ea70-4016-e685-d8fa9dc8f03b"
      },
      "execution_count": null,
      "outputs": [
        {
          "output_type": "execute_result",
          "data": {
            "text/plain": [
              "               RefId      IsBadBuy   PurchDate  Auction       VehYear  \\\n",
              "count   72983.000000  72983.000000       72983    72983  72983.000000   \n",
              "unique           NaN           NaN         517        3           NaN   \n",
              "top              NaN           NaN  11/23/2010  MANHEIM           NaN   \n",
              "freq             NaN           NaN         384    41043           NaN   \n",
              "mean    36511.428497      0.122988         NaN      NaN   2005.343052   \n",
              "std     21077.241302      0.328425         NaN      NaN      1.731252   \n",
              "min         1.000000      0.000000         NaN      NaN   2001.000000   \n",
              "25%     18257.500000      0.000000         NaN      NaN   2004.000000   \n",
              "50%     36514.000000      0.000000         NaN      NaN   2005.000000   \n",
              "75%     54764.500000      0.000000         NaN      NaN   2007.000000   \n",
              "max     73014.000000      1.000000         NaN      NaN   2010.000000   \n",
              "\n",
              "          VehicleAge       Make       Model   Trim  SubModel  ...  \\\n",
              "count   72983.000000      72983       72983  70623     72975  ...   \n",
              "unique           NaN         33        1063    134       863  ...   \n",
              "top              NaN  CHEVROLET  PT CRUISER    Bas  4D SEDAN  ...   \n",
              "freq             NaN      17248        2329  13950     15236  ...   \n",
              "mean        4.176644        NaN         NaN    NaN       NaN  ...   \n",
              "std         1.712210        NaN         NaN    NaN       NaN  ...   \n",
              "min         0.000000        NaN         NaN    NaN       NaN  ...   \n",
              "25%         3.000000        NaN         NaN    NaN       NaN  ...   \n",
              "50%         4.000000        NaN         NaN    NaN       NaN  ...   \n",
              "75%         5.000000        NaN         NaN    NaN       NaN  ...   \n",
              "max         9.000000        NaN         NaN    NaN       NaN  ...   \n",
              "\n",
              "       MMRCurrentRetailAveragePrice MMRCurrentRetailCleanPrice  PRIMEUNIT  \\\n",
              "count                  72668.000000               72668.000000       3419   \n",
              "unique                          NaN                        NaN          2   \n",
              "top                             NaN                        NaN         NO   \n",
              "freq                            NaN                        NaN       3357   \n",
              "mean                    8775.723331               10145.385314        NaN   \n",
              "std                     3090.702941                3310.254351        NaN   \n",
              "min                        0.000000                   0.000000        NaN   \n",
              "25%                     6536.000000                7784.000000        NaN   \n",
              "50%                     8729.000000               10103.000000        NaN   \n",
              "75%                    10911.000000               12309.000000        NaN   \n",
              "max                    39080.000000               41062.000000        NaN   \n",
              "\n",
              "       AUCGUART         BYRNO        VNZIP1   VNST      VehBCost  \\\n",
              "count      3419  72983.000000  72983.000000  72983  72983.000000   \n",
              "unique        2           NaN           NaN     37           NaN   \n",
              "top       GREEN           NaN           NaN     TX           NaN   \n",
              "freq       3340           NaN           NaN  13596           NaN   \n",
              "mean        NaN  26345.842155  58043.059945    NaN   6730.934326   \n",
              "std         NaN  25717.351219  26151.640415    NaN   1767.846435   \n",
              "min         NaN    835.000000   2764.000000    NaN      1.000000   \n",
              "25%         NaN  17212.000000  32124.000000    NaN   5435.000000   \n",
              "50%         NaN  19662.000000  73108.000000    NaN   6700.000000   \n",
              "75%         NaN  22808.000000  80022.000000    NaN   7900.000000   \n",
              "max         NaN  99761.000000  99224.000000    NaN  45469.000000   \n",
              "\n",
              "        IsOnlineSale  WarrantyCost  \n",
              "count   72983.000000  72983.000000  \n",
              "unique           NaN           NaN  \n",
              "top              NaN           NaN  \n",
              "freq             NaN           NaN  \n",
              "mean        0.025280   1276.580985  \n",
              "std         0.156975    598.846788  \n",
              "min         0.000000    462.000000  \n",
              "25%         0.000000    837.000000  \n",
              "50%         0.000000   1155.000000  \n",
              "75%         0.000000   1623.000000  \n",
              "max         1.000000   7498.000000  \n",
              "\n",
              "[11 rows x 34 columns]"
            ],
            "text/html": [
              "\n",
              "  <div id=\"df-4e0f9819-b0c1-45c1-8cd5-37c5f3a87690\" class=\"colab-df-container\">\n",
              "    <div>\n",
              "<style scoped>\n",
              "    .dataframe tbody tr th:only-of-type {\n",
              "        vertical-align: middle;\n",
              "    }\n",
              "\n",
              "    .dataframe tbody tr th {\n",
              "        vertical-align: top;\n",
              "    }\n",
              "\n",
              "    .dataframe thead th {\n",
              "        text-align: right;\n",
              "    }\n",
              "</style>\n",
              "<table border=\"1\" class=\"dataframe\">\n",
              "  <thead>\n",
              "    <tr style=\"text-align: right;\">\n",
              "      <th></th>\n",
              "      <th>RefId</th>\n",
              "      <th>IsBadBuy</th>\n",
              "      <th>PurchDate</th>\n",
              "      <th>Auction</th>\n",
              "      <th>VehYear</th>\n",
              "      <th>VehicleAge</th>\n",
              "      <th>Make</th>\n",
              "      <th>Model</th>\n",
              "      <th>Trim</th>\n",
              "      <th>SubModel</th>\n",
              "      <th>...</th>\n",
              "      <th>MMRCurrentRetailAveragePrice</th>\n",
              "      <th>MMRCurrentRetailCleanPrice</th>\n",
              "      <th>PRIMEUNIT</th>\n",
              "      <th>AUCGUART</th>\n",
              "      <th>BYRNO</th>\n",
              "      <th>VNZIP1</th>\n",
              "      <th>VNST</th>\n",
              "      <th>VehBCost</th>\n",
              "      <th>IsOnlineSale</th>\n",
              "      <th>WarrantyCost</th>\n",
              "    </tr>\n",
              "  </thead>\n",
              "  <tbody>\n",
              "    <tr>\n",
              "      <th>count</th>\n",
              "      <td>72983.000000</td>\n",
              "      <td>72983.000000</td>\n",
              "      <td>72983</td>\n",
              "      <td>72983</td>\n",
              "      <td>72983.000000</td>\n",
              "      <td>72983.000000</td>\n",
              "      <td>72983</td>\n",
              "      <td>72983</td>\n",
              "      <td>70623</td>\n",
              "      <td>72975</td>\n",
              "      <td>...</td>\n",
              "      <td>72668.000000</td>\n",
              "      <td>72668.000000</td>\n",
              "      <td>3419</td>\n",
              "      <td>3419</td>\n",
              "      <td>72983.000000</td>\n",
              "      <td>72983.000000</td>\n",
              "      <td>72983</td>\n",
              "      <td>72983.000000</td>\n",
              "      <td>72983.000000</td>\n",
              "      <td>72983.000000</td>\n",
              "    </tr>\n",
              "    <tr>\n",
              "      <th>unique</th>\n",
              "      <td>NaN</td>\n",
              "      <td>NaN</td>\n",
              "      <td>517</td>\n",
              "      <td>3</td>\n",
              "      <td>NaN</td>\n",
              "      <td>NaN</td>\n",
              "      <td>33</td>\n",
              "      <td>1063</td>\n",
              "      <td>134</td>\n",
              "      <td>863</td>\n",
              "      <td>...</td>\n",
              "      <td>NaN</td>\n",
              "      <td>NaN</td>\n",
              "      <td>2</td>\n",
              "      <td>2</td>\n",
              "      <td>NaN</td>\n",
              "      <td>NaN</td>\n",
              "      <td>37</td>\n",
              "      <td>NaN</td>\n",
              "      <td>NaN</td>\n",
              "      <td>NaN</td>\n",
              "    </tr>\n",
              "    <tr>\n",
              "      <th>top</th>\n",
              "      <td>NaN</td>\n",
              "      <td>NaN</td>\n",
              "      <td>11/23/2010</td>\n",
              "      <td>MANHEIM</td>\n",
              "      <td>NaN</td>\n",
              "      <td>NaN</td>\n",
              "      <td>CHEVROLET</td>\n",
              "      <td>PT CRUISER</td>\n",
              "      <td>Bas</td>\n",
              "      <td>4D SEDAN</td>\n",
              "      <td>...</td>\n",
              "      <td>NaN</td>\n",
              "      <td>NaN</td>\n",
              "      <td>NO</td>\n",
              "      <td>GREEN</td>\n",
              "      <td>NaN</td>\n",
              "      <td>NaN</td>\n",
              "      <td>TX</td>\n",
              "      <td>NaN</td>\n",
              "      <td>NaN</td>\n",
              "      <td>NaN</td>\n",
              "    </tr>\n",
              "    <tr>\n",
              "      <th>freq</th>\n",
              "      <td>NaN</td>\n",
              "      <td>NaN</td>\n",
              "      <td>384</td>\n",
              "      <td>41043</td>\n",
              "      <td>NaN</td>\n",
              "      <td>NaN</td>\n",
              "      <td>17248</td>\n",
              "      <td>2329</td>\n",
              "      <td>13950</td>\n",
              "      <td>15236</td>\n",
              "      <td>...</td>\n",
              "      <td>NaN</td>\n",
              "      <td>NaN</td>\n",
              "      <td>3357</td>\n",
              "      <td>3340</td>\n",
              "      <td>NaN</td>\n",
              "      <td>NaN</td>\n",
              "      <td>13596</td>\n",
              "      <td>NaN</td>\n",
              "      <td>NaN</td>\n",
              "      <td>NaN</td>\n",
              "    </tr>\n",
              "    <tr>\n",
              "      <th>mean</th>\n",
              "      <td>36511.428497</td>\n",
              "      <td>0.122988</td>\n",
              "      <td>NaN</td>\n",
              "      <td>NaN</td>\n",
              "      <td>2005.343052</td>\n",
              "      <td>4.176644</td>\n",
              "      <td>NaN</td>\n",
              "      <td>NaN</td>\n",
              "      <td>NaN</td>\n",
              "      <td>NaN</td>\n",
              "      <td>...</td>\n",
              "      <td>8775.723331</td>\n",
              "      <td>10145.385314</td>\n",
              "      <td>NaN</td>\n",
              "      <td>NaN</td>\n",
              "      <td>26345.842155</td>\n",
              "      <td>58043.059945</td>\n",
              "      <td>NaN</td>\n",
              "      <td>6730.934326</td>\n",
              "      <td>0.025280</td>\n",
              "      <td>1276.580985</td>\n",
              "    </tr>\n",
              "    <tr>\n",
              "      <th>std</th>\n",
              "      <td>21077.241302</td>\n",
              "      <td>0.328425</td>\n",
              "      <td>NaN</td>\n",
              "      <td>NaN</td>\n",
              "      <td>1.731252</td>\n",
              "      <td>1.712210</td>\n",
              "      <td>NaN</td>\n",
              "      <td>NaN</td>\n",
              "      <td>NaN</td>\n",
              "      <td>NaN</td>\n",
              "      <td>...</td>\n",
              "      <td>3090.702941</td>\n",
              "      <td>3310.254351</td>\n",
              "      <td>NaN</td>\n",
              "      <td>NaN</td>\n",
              "      <td>25717.351219</td>\n",
              "      <td>26151.640415</td>\n",
              "      <td>NaN</td>\n",
              "      <td>1767.846435</td>\n",
              "      <td>0.156975</td>\n",
              "      <td>598.846788</td>\n",
              "    </tr>\n",
              "    <tr>\n",
              "      <th>min</th>\n",
              "      <td>1.000000</td>\n",
              "      <td>0.000000</td>\n",
              "      <td>NaN</td>\n",
              "      <td>NaN</td>\n",
              "      <td>2001.000000</td>\n",
              "      <td>0.000000</td>\n",
              "      <td>NaN</td>\n",
              "      <td>NaN</td>\n",
              "      <td>NaN</td>\n",
              "      <td>NaN</td>\n",
              "      <td>...</td>\n",
              "      <td>0.000000</td>\n",
              "      <td>0.000000</td>\n",
              "      <td>NaN</td>\n",
              "      <td>NaN</td>\n",
              "      <td>835.000000</td>\n",
              "      <td>2764.000000</td>\n",
              "      <td>NaN</td>\n",
              "      <td>1.000000</td>\n",
              "      <td>0.000000</td>\n",
              "      <td>462.000000</td>\n",
              "    </tr>\n",
              "    <tr>\n",
              "      <th>25%</th>\n",
              "      <td>18257.500000</td>\n",
              "      <td>0.000000</td>\n",
              "      <td>NaN</td>\n",
              "      <td>NaN</td>\n",
              "      <td>2004.000000</td>\n",
              "      <td>3.000000</td>\n",
              "      <td>NaN</td>\n",
              "      <td>NaN</td>\n",
              "      <td>NaN</td>\n",
              "      <td>NaN</td>\n",
              "      <td>...</td>\n",
              "      <td>6536.000000</td>\n",
              "      <td>7784.000000</td>\n",
              "      <td>NaN</td>\n",
              "      <td>NaN</td>\n",
              "      <td>17212.000000</td>\n",
              "      <td>32124.000000</td>\n",
              "      <td>NaN</td>\n",
              "      <td>5435.000000</td>\n",
              "      <td>0.000000</td>\n",
              "      <td>837.000000</td>\n",
              "    </tr>\n",
              "    <tr>\n",
              "      <th>50%</th>\n",
              "      <td>36514.000000</td>\n",
              "      <td>0.000000</td>\n",
              "      <td>NaN</td>\n",
              "      <td>NaN</td>\n",
              "      <td>2005.000000</td>\n",
              "      <td>4.000000</td>\n",
              "      <td>NaN</td>\n",
              "      <td>NaN</td>\n",
              "      <td>NaN</td>\n",
              "      <td>NaN</td>\n",
              "      <td>...</td>\n",
              "      <td>8729.000000</td>\n",
              "      <td>10103.000000</td>\n",
              "      <td>NaN</td>\n",
              "      <td>NaN</td>\n",
              "      <td>19662.000000</td>\n",
              "      <td>73108.000000</td>\n",
              "      <td>NaN</td>\n",
              "      <td>6700.000000</td>\n",
              "      <td>0.000000</td>\n",
              "      <td>1155.000000</td>\n",
              "    </tr>\n",
              "    <tr>\n",
              "      <th>75%</th>\n",
              "      <td>54764.500000</td>\n",
              "      <td>0.000000</td>\n",
              "      <td>NaN</td>\n",
              "      <td>NaN</td>\n",
              "      <td>2007.000000</td>\n",
              "      <td>5.000000</td>\n",
              "      <td>NaN</td>\n",
              "      <td>NaN</td>\n",
              "      <td>NaN</td>\n",
              "      <td>NaN</td>\n",
              "      <td>...</td>\n",
              "      <td>10911.000000</td>\n",
              "      <td>12309.000000</td>\n",
              "      <td>NaN</td>\n",
              "      <td>NaN</td>\n",
              "      <td>22808.000000</td>\n",
              "      <td>80022.000000</td>\n",
              "      <td>NaN</td>\n",
              "      <td>7900.000000</td>\n",
              "      <td>0.000000</td>\n",
              "      <td>1623.000000</td>\n",
              "    </tr>\n",
              "    <tr>\n",
              "      <th>max</th>\n",
              "      <td>73014.000000</td>\n",
              "      <td>1.000000</td>\n",
              "      <td>NaN</td>\n",
              "      <td>NaN</td>\n",
              "      <td>2010.000000</td>\n",
              "      <td>9.000000</td>\n",
              "      <td>NaN</td>\n",
              "      <td>NaN</td>\n",
              "      <td>NaN</td>\n",
              "      <td>NaN</td>\n",
              "      <td>...</td>\n",
              "      <td>39080.000000</td>\n",
              "      <td>41062.000000</td>\n",
              "      <td>NaN</td>\n",
              "      <td>NaN</td>\n",
              "      <td>99761.000000</td>\n",
              "      <td>99224.000000</td>\n",
              "      <td>NaN</td>\n",
              "      <td>45469.000000</td>\n",
              "      <td>1.000000</td>\n",
              "      <td>7498.000000</td>\n",
              "    </tr>\n",
              "  </tbody>\n",
              "</table>\n",
              "<p>11 rows × 34 columns</p>\n",
              "</div>\n",
              "    <div class=\"colab-df-buttons\">\n",
              "\n",
              "  <div class=\"colab-df-container\">\n",
              "    <button class=\"colab-df-convert\" onclick=\"convertToInteractive('df-4e0f9819-b0c1-45c1-8cd5-37c5f3a87690')\"\n",
              "            title=\"Convert this dataframe to an interactive table.\"\n",
              "            style=\"display:none;\">\n",
              "\n",
              "  <svg xmlns=\"http://www.w3.org/2000/svg\" height=\"24px\" viewBox=\"0 -960 960 960\">\n",
              "    <path d=\"M120-120v-720h720v720H120Zm60-500h600v-160H180v160Zm220 220h160v-160H400v160Zm0 220h160v-160H400v160ZM180-400h160v-160H180v160Zm440 0h160v-160H620v160ZM180-180h160v-160H180v160Zm440 0h160v-160H620v160Z\"/>\n",
              "  </svg>\n",
              "    </button>\n",
              "\n",
              "  <style>\n",
              "    .colab-df-container {\n",
              "      display:flex;\n",
              "      gap: 12px;\n",
              "    }\n",
              "\n",
              "    .colab-df-convert {\n",
              "      background-color: #E8F0FE;\n",
              "      border: none;\n",
              "      border-radius: 50%;\n",
              "      cursor: pointer;\n",
              "      display: none;\n",
              "      fill: #1967D2;\n",
              "      height: 32px;\n",
              "      padding: 0 0 0 0;\n",
              "      width: 32px;\n",
              "    }\n",
              "\n",
              "    .colab-df-convert:hover {\n",
              "      background-color: #E2EBFA;\n",
              "      box-shadow: 0px 1px 2px rgba(60, 64, 67, 0.3), 0px 1px 3px 1px rgba(60, 64, 67, 0.15);\n",
              "      fill: #174EA6;\n",
              "    }\n",
              "\n",
              "    .colab-df-buttons div {\n",
              "      margin-bottom: 4px;\n",
              "    }\n",
              "\n",
              "    [theme=dark] .colab-df-convert {\n",
              "      background-color: #3B4455;\n",
              "      fill: #D2E3FC;\n",
              "    }\n",
              "\n",
              "    [theme=dark] .colab-df-convert:hover {\n",
              "      background-color: #434B5C;\n",
              "      box-shadow: 0px 1px 3px 1px rgba(0, 0, 0, 0.15);\n",
              "      filter: drop-shadow(0px 1px 2px rgba(0, 0, 0, 0.3));\n",
              "      fill: #FFFFFF;\n",
              "    }\n",
              "  </style>\n",
              "\n",
              "    <script>\n",
              "      const buttonEl =\n",
              "        document.querySelector('#df-4e0f9819-b0c1-45c1-8cd5-37c5f3a87690 button.colab-df-convert');\n",
              "      buttonEl.style.display =\n",
              "        google.colab.kernel.accessAllowed ? 'block' : 'none';\n",
              "\n",
              "      async function convertToInteractive(key) {\n",
              "        const element = document.querySelector('#df-4e0f9819-b0c1-45c1-8cd5-37c5f3a87690');\n",
              "        const dataTable =\n",
              "          await google.colab.kernel.invokeFunction('convertToInteractive',\n",
              "                                                    [key], {});\n",
              "        if (!dataTable) return;\n",
              "\n",
              "        const docLinkHtml = 'Like what you see? Visit the ' +\n",
              "          '<a target=\"_blank\" href=https://colab.research.google.com/notebooks/data_table.ipynb>data table notebook</a>'\n",
              "          + ' to learn more about interactive tables.';\n",
              "        element.innerHTML = '';\n",
              "        dataTable['output_type'] = 'display_data';\n",
              "        await google.colab.output.renderOutput(dataTable, element);\n",
              "        const docLink = document.createElement('div');\n",
              "        docLink.innerHTML = docLinkHtml;\n",
              "        element.appendChild(docLink);\n",
              "      }\n",
              "    </script>\n",
              "  </div>\n",
              "\n",
              "\n",
              "<div id=\"df-50d427f8-e932-405e-b9b7-e7e15299089e\">\n",
              "  <button class=\"colab-df-quickchart\" onclick=\"quickchart('df-50d427f8-e932-405e-b9b7-e7e15299089e')\"\n",
              "            title=\"Suggest charts\"\n",
              "            style=\"display:none;\">\n",
              "\n",
              "<svg xmlns=\"http://www.w3.org/2000/svg\" height=\"24px\"viewBox=\"0 0 24 24\"\n",
              "     width=\"24px\">\n",
              "    <g>\n",
              "        <path d=\"M19 3H5c-1.1 0-2 .9-2 2v14c0 1.1.9 2 2 2h14c1.1 0 2-.9 2-2V5c0-1.1-.9-2-2-2zM9 17H7v-7h2v7zm4 0h-2V7h2v10zm4 0h-2v-4h2v4z\"/>\n",
              "    </g>\n",
              "</svg>\n",
              "  </button>\n",
              "\n",
              "<style>\n",
              "  .colab-df-quickchart {\n",
              "      --bg-color: #E8F0FE;\n",
              "      --fill-color: #1967D2;\n",
              "      --hover-bg-color: #E2EBFA;\n",
              "      --hover-fill-color: #174EA6;\n",
              "      --disabled-fill-color: #AAA;\n",
              "      --disabled-bg-color: #DDD;\n",
              "  }\n",
              "\n",
              "  [theme=dark] .colab-df-quickchart {\n",
              "      --bg-color: #3B4455;\n",
              "      --fill-color: #D2E3FC;\n",
              "      --hover-bg-color: #434B5C;\n",
              "      --hover-fill-color: #FFFFFF;\n",
              "      --disabled-bg-color: #3B4455;\n",
              "      --disabled-fill-color: #666;\n",
              "  }\n",
              "\n",
              "  .colab-df-quickchart {\n",
              "    background-color: var(--bg-color);\n",
              "    border: none;\n",
              "    border-radius: 50%;\n",
              "    cursor: pointer;\n",
              "    display: none;\n",
              "    fill: var(--fill-color);\n",
              "    height: 32px;\n",
              "    padding: 0;\n",
              "    width: 32px;\n",
              "  }\n",
              "\n",
              "  .colab-df-quickchart:hover {\n",
              "    background-color: var(--hover-bg-color);\n",
              "    box-shadow: 0 1px 2px rgba(60, 64, 67, 0.3), 0 1px 3px 1px rgba(60, 64, 67, 0.15);\n",
              "    fill: var(--button-hover-fill-color);\n",
              "  }\n",
              "\n",
              "  .colab-df-quickchart-complete:disabled,\n",
              "  .colab-df-quickchart-complete:disabled:hover {\n",
              "    background-color: var(--disabled-bg-color);\n",
              "    fill: var(--disabled-fill-color);\n",
              "    box-shadow: none;\n",
              "  }\n",
              "\n",
              "  .colab-df-spinner {\n",
              "    border: 2px solid var(--fill-color);\n",
              "    border-color: transparent;\n",
              "    border-bottom-color: var(--fill-color);\n",
              "    animation:\n",
              "      spin 1s steps(1) infinite;\n",
              "  }\n",
              "\n",
              "  @keyframes spin {\n",
              "    0% {\n",
              "      border-color: transparent;\n",
              "      border-bottom-color: var(--fill-color);\n",
              "      border-left-color: var(--fill-color);\n",
              "    }\n",
              "    20% {\n",
              "      border-color: transparent;\n",
              "      border-left-color: var(--fill-color);\n",
              "      border-top-color: var(--fill-color);\n",
              "    }\n",
              "    30% {\n",
              "      border-color: transparent;\n",
              "      border-left-color: var(--fill-color);\n",
              "      border-top-color: var(--fill-color);\n",
              "      border-right-color: var(--fill-color);\n",
              "    }\n",
              "    40% {\n",
              "      border-color: transparent;\n",
              "      border-right-color: var(--fill-color);\n",
              "      border-top-color: var(--fill-color);\n",
              "    }\n",
              "    60% {\n",
              "      border-color: transparent;\n",
              "      border-right-color: var(--fill-color);\n",
              "    }\n",
              "    80% {\n",
              "      border-color: transparent;\n",
              "      border-right-color: var(--fill-color);\n",
              "      border-bottom-color: var(--fill-color);\n",
              "    }\n",
              "    90% {\n",
              "      border-color: transparent;\n",
              "      border-bottom-color: var(--fill-color);\n",
              "    }\n",
              "  }\n",
              "</style>\n",
              "\n",
              "  <script>\n",
              "    async function quickchart(key) {\n",
              "      const quickchartButtonEl =\n",
              "        document.querySelector('#' + key + ' button');\n",
              "      quickchartButtonEl.disabled = true;  // To prevent multiple clicks.\n",
              "      quickchartButtonEl.classList.add('colab-df-spinner');\n",
              "      try {\n",
              "        const charts = await google.colab.kernel.invokeFunction(\n",
              "            'suggestCharts', [key], {});\n",
              "      } catch (error) {\n",
              "        console.error('Error during call to suggestCharts:', error);\n",
              "      }\n",
              "      quickchartButtonEl.classList.remove('colab-df-spinner');\n",
              "      quickchartButtonEl.classList.add('colab-df-quickchart-complete');\n",
              "    }\n",
              "    (() => {\n",
              "      let quickchartButtonEl =\n",
              "        document.querySelector('#df-50d427f8-e932-405e-b9b7-e7e15299089e button');\n",
              "      quickchartButtonEl.style.display =\n",
              "        google.colab.kernel.accessAllowed ? 'block' : 'none';\n",
              "    })();\n",
              "  </script>\n",
              "</div>\n",
              "    </div>\n",
              "  </div>\n"
            ],
            "application/vnd.google.colaboratory.intrinsic+json": {
              "type": "dataframe"
            }
          },
          "metadata": {},
          "execution_count": 59
        }
      ]
    },
    {
      "cell_type": "markdown",
      "source": [
        "PurchDate : Dates by themselves are not suitable for analysis unless recurring indicators are extracted from them (such as month, day, day of the week), or the intervals between dates are calculated.\n",
        "\n",
        "VehYear: \"VehicleAge\" is present in the data, which is a better alternative.\n",
        "\n",
        "Model, Trim and Submodel: The number of classes in these features is high, and additional expertise is required to merge classes with low frequency.\n",
        "\n",
        "WheelTypeID: \"WheelType\" is present in data, which is better alternative.\n",
        "\n",
        "BYRNO: Its just an ID.\n",
        "\n",
        "VNZIP1 and VNST: They often do not directly contribute to predictive power unless specific location-based insights are needed.\n",
        "\n",
        "In the 'PRIMEUNIT' and 'AUCGUART' variables, there are more than 95% missing values.\n"
      ],
      "metadata": {
        "id": "zhvbAaGf7Ps9"
      }
    },
    {
      "cell_type": "code",
      "source": [
        "processed_df = df.drop(columns=['PRIMEUNIT', 'AUCGUART', 'Model', 'Trim', 'SubModel', 'VNST', 'VNZIP1', 'VehYear', 'BYRNO', 'WheelTypeID'])\n",
        "\n",
        "numerical_columns = processed_df.select_dtypes(include=['number']).columns.tolist()\n",
        "categorial_columns = processed_df.select_dtypes(include='object').columns.to_list()\n",
        "\n",
        "for col in numerical_columns:\n",
        "  median_value = processed_df[col].median()\n",
        "  processed_df[col] = processed_df[col].fillna(median_value)\n",
        "\n",
        "for col in categorial_columns:\n",
        "  mode_value = processed_df[col].mode()\n",
        "  processed_df[col] = processed_df[col].fillna(mode_value)"
      ],
      "metadata": {
        "id": "CGzA14PXS5ur"
      },
      "execution_count": null,
      "outputs": []
    },
    {
      "cell_type": "code",
      "source": [
        "processed_df[categorial_columns].info()"
      ],
      "metadata": {
        "colab": {
          "base_uri": "https://localhost:8080/"
        },
        "id": "jW9xVVZTTyPi",
        "outputId": "9d2cbd2e-ce18-4788-caa0-ab59af711747"
      },
      "execution_count": null,
      "outputs": [
        {
          "output_type": "stream",
          "name": "stdout",
          "text": [
            "<class 'pandas.core.frame.DataFrame'>\n",
            "RangeIndex: 72983 entries, 0 to 72982\n",
            "Data columns (total 9 columns):\n",
            " #   Column                Non-Null Count  Dtype \n",
            "---  ------                --------------  ----- \n",
            " 0   PurchDate             72983 non-null  object\n",
            " 1   Auction               72983 non-null  object\n",
            " 2   Make                  72983 non-null  object\n",
            " 3   Color                 72975 non-null  object\n",
            " 4   Transmission          72974 non-null  object\n",
            " 5   WheelType             69809 non-null  object\n",
            " 6   Nationality           72978 non-null  object\n",
            " 7   Size                  72978 non-null  object\n",
            " 8   TopThreeAmericanName  72978 non-null  object\n",
            "dtypes: object(9)\n",
            "memory usage: 5.0+ MB\n"
          ]
        }
      ]
    },
    {
      "cell_type": "markdown",
      "source": [
        "2. Design train/validation/test split. Use “PurchDate” field for splitting, test must be later in time than validation, the same goes for validation and train: train.PurchDate < valid.PurchDate < test.PurchDate. Use the first 33% of dates for train, last 33% of dates for test, and middle 33% for validation set. Don’t use the test dataset until the end!"
      ],
      "metadata": {
        "id": "c4gr8J-j2ak0"
      }
    },
    {
      "cell_type": "code",
      "source": [
        "processed_df['PurchDate'] = pd.to_datetime(df['PurchDate'])\n",
        "processed_df = processed_df.sort_values(by='PurchDate')\n",
        "n_part = processed_df.shape[0] // 3\n",
        "\n",
        "processed_df = processed_df.drop(columns='PurchDate')\n",
        "categorial_columns.remove('PurchDate')\n",
        "\n",
        "train = processed_df.iloc[: n_part].copy()\n",
        "valid = processed_df.iloc[n_part : 2 * n_part].copy()\n",
        "test = processed_df.iloc[2 * n_part :].copy()"
      ],
      "metadata": {
        "id": "j9lEVSip3Ncj"
      },
      "execution_count": null,
      "outputs": []
    },
    {
      "cell_type": "markdown",
      "source": [
        "3. Use LabelEncoder or OneHotEncoder from sklearn to preprocess categorical variables. Be careful with data leakage (fit Encoder on train and apply on validation & test). Consider another encoding approach if you meet new categorical values in valid & test (unseen in the training dataset), for example: https://contrib.scikit-learn.org/category_encoders/count.html"
      ],
      "metadata": {
        "id": "cU5jl9NW7ise"
      }
    },
    {
      "cell_type": "code",
      "source": [
        "encoder_onehot = OneHotEncoder(sparse_output=False, handle_unknown='ignore')\n",
        "onehot_columns = encoder_onehot.fit_transform(train[categorial_columns])\n",
        "\n",
        "train_encoded = pd.DataFrame(onehot_columns, index=train.index, columns=encoder_onehot.get_feature_names_out())\n",
        "\n",
        "onehot_columns = encoder_onehot.transform(valid[categorial_columns])\n",
        "valid_encoded = pd.DataFrame(onehot_columns, index=valid.index, columns=encoder_onehot.get_feature_names_out())\n",
        "\n",
        "onehot_columns = encoder_onehot.transform(test[categorial_columns])\n",
        "test_encoded = pd.DataFrame(onehot_columns, index=test.index, columns=encoder_onehot.get_feature_names_out())"
      ],
      "metadata": {
        "id": "cFDsgWNTAVl-"
      },
      "execution_count": null,
      "outputs": []
    },
    {
      "cell_type": "markdown",
      "source": [
        "4. Train LogisticRegression, GaussianNB, KNN from sklearn on the training dataset and check the quality of your algorithms on the validation dataset. The dependent variable (IsBadBuy) is binary. Don’t forget to normalize your datasets before training models."
      ],
      "metadata": {
        "id": "vQmK3p_wqsGK"
      }
    },
    {
      "cell_type": "code",
      "source": [
        "y_train = train['IsBadBuy'].copy()\n",
        "y_valid = valid['IsBadBuy'].copy()\n",
        "y_test = test['IsBadBuy'].copy()\n",
        "\n",
        "train.drop(columns='IsBadBuy', inplace=True)\n",
        "valid.drop(columns='IsBadBuy', inplace=True)\n",
        "test.drop(columns='IsBadBuy', inplace=True)\n",
        "\n",
        "numerical_columns.remove('IsBadBuy')"
      ],
      "metadata": {
        "id": "xI816T87qHlu"
      },
      "execution_count": null,
      "outputs": []
    },
    {
      "cell_type": "code",
      "source": [
        "MinMax = MinMaxScaler()\n",
        "train_norm = pd.DataFrame(MinMax.fit_transform(train[numerical_columns]), index=train.index, columns=numerical_columns)\n",
        "valid_norm = pd.DataFrame(MinMax.transform(valid[numerical_columns]), index=valid.index, columns=numerical_columns)\n",
        "test_norm = pd.DataFrame(MinMax.transform(test[numerical_columns]), index=test.index, columns=numerical_columns)\n",
        "\n",
        "X_train = pd.concat([train_norm, train_encoded], axis=1)\n",
        "X_valid = pd.concat([valid_norm, valid_encoded], axis=1)\n",
        "X_test = pd.concat([test_norm, test_encoded], axis=1)"
      ],
      "metadata": {
        "id": "YgOeXcJdqveB"
      },
      "execution_count": null,
      "outputs": []
    },
    {
      "cell_type": "markdown",
      "source": [
        "*LogisticRegression*"
      ],
      "metadata": {
        "id": "QyoZS8fuAhyY"
      }
    },
    {
      "cell_type": "code",
      "source": [
        "logReg = LogisticRegression(random_state=42)\n",
        "logReg.fit(X_train, y_train)\n",
        "\n",
        "y_pred_train_lg_pr = logReg.predict_proba(X_train)\n",
        "y_pred_valid_lg_pr = logReg.predict_proba(X_valid)\n",
        "y_pred_test_lg_pr = logReg.predict_proba(X_test)\n",
        "\n",
        "giniTrainLG = 2 * roc_auc_score(y_train, y_pred_train_lg_pr[:, 1]) - 1\n",
        "giniValidLG = 2 * roc_auc_score(y_valid, y_pred_valid_lg_pr[:, 1]) - 1\n",
        "giniTestLG = 2 * roc_auc_score(y_test, y_pred_test_lg_pr[:, 1]) - 1"
      ],
      "metadata": {
        "id": "8fFdPBZITAaz"
      },
      "execution_count": null,
      "outputs": []
    },
    {
      "cell_type": "code",
      "source": [
        "print('Gini score Logistic Regression:')\n",
        "print('Train:', giniTrainLG)\n",
        "print('Valid:', giniValidLG)\n",
        "print('Test:', giniTestLG)"
      ],
      "metadata": {
        "colab": {
          "base_uri": "https://localhost:8080/"
        },
        "id": "vhtuG2PtWrMs",
        "outputId": "47522cdb-482f-4892-8e85-c98e7ab26194"
      },
      "execution_count": null,
      "outputs": [
        {
          "output_type": "stream",
          "name": "stdout",
          "text": [
            "Gini score Logistic Regression:\n",
            "Train: 0.5053060839414765\n",
            "Valid: 0.4786878179261531\n",
            "Test: 0.4895512041852712\n"
          ]
        }
      ]
    },
    {
      "cell_type": "markdown",
      "source": [
        "*GaussianNB*"
      ],
      "metadata": {
        "id": "PObUdiN0BEys"
      }
    },
    {
      "cell_type": "code",
      "source": [
        "gaussNB = GaussianNB()\n",
        "gaussNB.fit(X_train, y_train)\n",
        "\n",
        "y_pred_train_gnb_pr = gaussNB.predict_proba(X_train)\n",
        "y_pred_valid_gnb_pr = gaussNB.predict_proba(X_valid)\n",
        "y_pred_test_gnb_pr = gaussNB.predict_proba(X_test)\n",
        "\n",
        "giniTrainGNB = 2 * roc_auc_score(y_train, y_pred_train_gnb_pr[:, 1]) - 1\n",
        "giniValidGNB = 2 * roc_auc_score(y_valid, y_pred_valid_gnb_pr[:, 1]) - 1\n",
        "giniTestGNB = 2 * roc_auc_score(y_test, y_pred_test_gnb_pr[:, 1]) - 1"
      ],
      "metadata": {
        "id": "T4PvAj-nBGjb"
      },
      "execution_count": null,
      "outputs": []
    },
    {
      "cell_type": "code",
      "source": [
        "print('Gini score GaussianNB:')\n",
        "print('Train:', giniTrainGNB)\n",
        "print('Valid:', giniValidGNB)\n",
        "print('Test:', giniTestGNB)"
      ],
      "metadata": {
        "colab": {
          "base_uri": "https://localhost:8080/"
        },
        "id": "AUC2nCHxXsK4",
        "outputId": "833ad7db-6027-4078-bf1d-20ba69d5928a"
      },
      "execution_count": null,
      "outputs": [
        {
          "output_type": "stream",
          "name": "stdout",
          "text": [
            "Gini score GaussianNB:\n",
            "Train: 0.4339873399690395\n",
            "Valid: 0.3787812352653981\n",
            "Test: 0.38608982396736846\n"
          ]
        }
      ]
    },
    {
      "cell_type": "markdown",
      "source": [
        "*KNN*"
      ],
      "metadata": {
        "id": "rHxbl2TwHJoC"
      }
    },
    {
      "cell_type": "code",
      "source": [
        "knn = KNeighborsClassifier()\n",
        "knn.fit(X_train, y_train)\n",
        "\n",
        "y_pred_train_knn_pr = knn.predict_proba(X_train)\n",
        "y_pred_valid_knn_pr = knn.predict_proba(X_valid)\n",
        "y_pred_test_knn_pr = knn.predict_proba(X_test)\n",
        "\n",
        "giniTrainKNN = 2 * roc_auc_score(y_train, y_pred_train_knn_pr[:, 1]) - 1\n",
        "giniValidKNN = 2 * roc_auc_score(y_valid, y_pred_valid_knn_pr[:, 1]) - 1\n",
        "giniTestKNN = 2 * roc_auc_score(y_test, y_pred_test_knn_pr[:, 1]) - 1"
      ],
      "metadata": {
        "id": "HcdvLRKfH3Tj"
      },
      "execution_count": null,
      "outputs": []
    },
    {
      "cell_type": "code",
      "source": [
        "print('Gini score KNN:')\n",
        "print('Train:', giniTrainKNN)\n",
        "print('Valid:', giniValidKNN)\n",
        "print('Test:', giniTestKNN)"
      ],
      "metadata": {
        "colab": {
          "base_uri": "https://localhost:8080/"
        },
        "id": "-ZULJAbHY_pl",
        "outputId": "0d54b28d-5ae7-4efa-db6c-4603ee9fb379"
      },
      "execution_count": null,
      "outputs": [
        {
          "output_type": "stream",
          "name": "stdout",
          "text": [
            "Gini score KNN:\n",
            "Train: 0.8141329977749521\n",
            "Valid: 0.2731743460383025\n",
            "Test: 0.2622217362927062\n"
          ]
        }
      ]
    },
    {
      "cell_type": "markdown",
      "source": [
        "Наилучшие результаты у LogisticRegression. GaussianNB требует нормального распределения данных, а также предполагает независимые признаки. KNN склонен к переобучению."
      ],
      "metadata": {
        "id": "v4RMF97EZjvW"
      }
    },
    {
      "cell_type": "markdown",
      "source": [
        "5. Implement Gini score calculation. You can use 2*ROC AUC - 1 approach, so you need to implement ROC AUC calculation. Check if your metric approximately equals abs(2\\*sklearn.metrcs.roc_auc_score - 1)."
      ],
      "metadata": {
        "id": "EMmPYPdjJTGE"
      }
    },
    {
      "cell_type": "code",
      "source": [
        "def Gini_score(y_true, y_score):\n",
        "  df_score_class = pd.DataFrame({'y_score': y_score, 'y_true': y_true})\n",
        "  df_score_class = df_score_class.sort_values(by='y_score', ascending=False)\n",
        "\n",
        "  n_pos = np.sum(y_true)\n",
        "  n_neg = len(y_true) - n_pos\n",
        "\n",
        "  if n_pos:\n",
        "    tpr = np.cumsum(df_score_class['y_true']) / n_pos\n",
        "  else:\n",
        "    tpr = 0\n",
        "\n",
        "  if n_neg:\n",
        "    fpr = np.cumsum(1 - df_score_class['y_true']) / n_neg\n",
        "  else:\n",
        "    fpr = 0\n",
        "\n",
        "  tpr = np.concatenate(([0], tpr, [1]))\n",
        "  fpr = np.concatenate(([0], fpr, [1]))\n",
        "\n",
        "  auc_roc = np.trapz(tpr, fpr)\n",
        "\n",
        "  return 2 * auc_roc - 1"
      ],
      "metadata": {
        "id": "HNZXP-FYJcPk"
      },
      "execution_count": null,
      "outputs": []
    },
    {
      "cell_type": "code",
      "source": [
        "gini = Gini_score(y_train, y_pred_train_lg_pr[:, 1])\n",
        "print('sklearn version:', 2 * roc_auc_score(y_train, y_pred_train_lg_pr[:, 1]) - 1)\n",
        "print('my version of gini', gini)"
      ],
      "metadata": {
        "id": "ErEmOmzlG7Er",
        "colab": {
          "base_uri": "https://localhost:8080/"
        },
        "outputId": "4ec719ea-ce38-4b79-a643-8fef2fc83abd"
      },
      "execution_count": null,
      "outputs": [
        {
          "output_type": "stream",
          "name": "stdout",
          "text": [
            "sklearn version: 0.5053060839414765\n",
            "my version of gini 0.5053060839414765\n"
          ]
        }
      ]
    },
    {
      "cell_type": "markdown",
      "source": [
        "6. Implement your own versions of LogisticRegression, KNN and NaiveBayes classifiers. For LogisticRegression compute gradients with respect to the loss and use stochastic gradient descent. Can you reproduce the results from step 4?\n",
        "\n",
        "\n",
        " - Guidance for this task: Your model must be represented by class with methods fit, predict (predict_proba with 0.5 threshold), predict_proba. For LR moder, compute the loss gradient with respect to parameters w and parameter b in the fit function. Use a simple SGD approach to estimate optimal values of parameters."
      ],
      "metadata": {
        "id": "vsqwmkBgzQXH"
      }
    },
    {
      "cell_type": "markdown",
      "source": [
        "*Logistic Regression*"
      ],
      "metadata": {
        "id": "lH0LBpyBh_cz"
      }
    },
    {
      "cell_type": "code",
      "source": [
        "class LogisticRegressionMy:\n",
        "  def __init__(self, learning_rate=0.01, n_iterations=100, batch_size=100, threshold=0.5, random_state=None) -> None:\n",
        "    self.learning_rate = learning_rate\n",
        "    self.n_iterations = n_iterations\n",
        "    self.batch_size = batch_size\n",
        "    self.threshold = threshold\n",
        "    self.weights = None\n",
        "    self.bias = None\n",
        "    self.random_state = random_state\n",
        "\n",
        "\n",
        "  def sigmoid(self, y_pred_):\n",
        "    return (1 / (1 + np.exp(-y_pred_)))\n",
        "\n",
        "\n",
        "  def fit(self, X, y):\n",
        "    if self.random_state:\n",
        "      np.random.seed(self.random_state)\n",
        "\n",
        "    n_samples, n_features = X.shape\n",
        "    self.weights = np.random.randn(n_features) * 0.01\n",
        "    self.bias = np.random.randn() * 0.01\n",
        "\n",
        "\n",
        "    for i in range(self.n_iterations):\n",
        "      start_ind = np.random.randint(0, n_samples - self.batch_size - 1)\n",
        "      end_ind = start_ind + self.batch_size\n",
        "      y_pred = X[start_ind : end_ind] @ self.weights + self.bias\n",
        "      sigm_func = self.sigmoid(y_pred)\n",
        "      dw = (X[start_ind : end_ind].T @ (sigm_func - y[start_ind : end_ind])) / self.batch_size\n",
        "      db = np.sum(sigm_func - y[start_ind : end_ind]) / self.batch_size\n",
        "\n",
        "      self.weights -= self.learning_rate * dw\n",
        "      self.bias -= self.learning_rate * db\n",
        "\n",
        "\n",
        "  def predict_proba(self, X):\n",
        "      y_pred = X @ self.weights + self.bias\n",
        "      return self.sigmoid(y_pred)\n",
        "\n",
        "\n",
        "  def predict(self, X):\n",
        "    return (self.predict_proba(X) >= self.threshold).astype(int)"
      ],
      "metadata": {
        "id": "ma5cWO55y5ij"
      },
      "execution_count": null,
      "outputs": []
    },
    {
      "cell_type": "code",
      "source": [
        "lr_my = LogisticRegressionMy()\n",
        "lr_my.fit(X_train, y_train)\n",
        "\n",
        "y_pred_train_lr_my = lr_my.predict_proba(X_train)\n",
        "y_pred_valid_lr_my = lr_my.predict_proba(X_valid)\n",
        "y_pred_test_lr_my = lr_my.predict_proba(X_test)\n",
        "\n",
        "giniTrainLGmy = 2 * roc_auc_score(y_train, y_pred_train_lr_my) - 1\n",
        "giniValidLGmy = 2 * roc_auc_score(y_valid, y_pred_valid_lr_my) - 1\n",
        "giniTestLGmy = 2 * roc_auc_score(y_test, y_pred_test_lr_my) - 1"
      ],
      "metadata": {
        "id": "g9k7nfSPb5AK"
      },
      "execution_count": null,
      "outputs": []
    },
    {
      "cell_type": "code",
      "source": [
        "print('Gini score Logistic Regression my version:')\n",
        "print('Train:', giniTrainLGmy)\n",
        "print('Valid:', giniValidLGmy)\n",
        "print('Test:', giniTestLGmy)"
      ],
      "metadata": {
        "id": "ikZPZwT5-Lem",
        "colab": {
          "base_uri": "https://localhost:8080/"
        },
        "outputId": "7d720185-2ed3-431b-acb4-b0d857f183f6"
      },
      "execution_count": null,
      "outputs": [
        {
          "output_type": "stream",
          "name": "stdout",
          "text": [
            "Gini score Logistic Regression my version:\n",
            "Train: 0.16807436545681198\n",
            "Valid: 0.14668215816634378\n",
            "Test: 0.1465990474185217\n"
          ]
        }
      ]
    },
    {
      "cell_type": "markdown",
      "source": [
        "*KNN*"
      ],
      "metadata": {
        "id": "J9--F2Cehn1P"
      }
    },
    {
      "cell_type": "code",
      "source": [
        "class KNeighborsClassifierMy:\n",
        "  def __init__(self, n_neighbors=5, threshold=0.5, learn_count=200) -> None:\n",
        "    self.n_neighbors = n_neighbors\n",
        "    self.X_ = None\n",
        "    self.y_ = None\n",
        "    self.threshold = threshold\n",
        "    self.learn_count = learn_count\n",
        "\n",
        "  def euclidean_distance_(self, x_i):\n",
        "    return np.sqrt(np.sum((self.X_ - x_i)**2, axis=1))\n",
        "\n",
        "\n",
        "  def fit(self, X, y):\n",
        "    indices_X = list(range(X_test.shape[0]))\n",
        "    np.random.shuffle(indices_X)\n",
        "    ind = indices_X[:self.learn_count]\n",
        "    self.X_ = np.array(X.iloc[ind])\n",
        "    self.y_ = np.array(y.iloc[ind])\n",
        "\n",
        "\n",
        "  def predict_proba(self, X):\n",
        "    y_pred_list = []\n",
        "    for x_i in np.array(X):\n",
        "      dist = self.euclidean_distance_(np.array(x_i))\n",
        "      indices = np.argsort(dist)[:self.n_neighbors]\n",
        "      count_class = np.bincount(self.y_[indices], minlength=2)\n",
        "      y_pred_list.append([count_class[0] / self.n_neighbors, count_class[1] / self.n_neighbors])\n",
        "\n",
        "    return np.array(y_pred_list)\n",
        "\n",
        "\n",
        "  def predict(self, X):\n",
        "    y_pred = self.predict_proba(X)\n",
        "    return (y_pred[:, 1] > self.threshold).astype(int)"
      ],
      "metadata": {
        "id": "LiANKrtOiFAr"
      },
      "execution_count": null,
      "outputs": []
    },
    {
      "cell_type": "code",
      "source": [
        "knn_my = KNeighborsClassifierMy()\n",
        "knn_my.fit(X_train, y_train)\n",
        "y_knn_train = knn_my.predict_proba(X_train)\n",
        "y_knn_valid = knn_my.predict_proba(X_valid)\n",
        "y_knn_test = knn_my.predict_proba(X_test)"
      ],
      "metadata": {
        "id": "dgGHnjOkufuy"
      },
      "execution_count": null,
      "outputs": []
    },
    {
      "cell_type": "code",
      "source": [
        "giniTrainKNNmy = 2 * roc_auc_score(y_train, y_knn_train[:, 1]) - 1\n",
        "giniValidKNNmy = 2 * roc_auc_score(y_valid, y_knn_valid[:, 1]) - 1\n",
        "giniTestKNNmy = 2 * roc_auc_score(y_test, y_knn_test[:, 1]) - 1\n",
        "\n",
        "print('Gini score my KNN:')\n",
        "print('Train:', giniTrainKNNmy)\n",
        "print('Valid:', giniValidKNNmy)\n",
        "print('Test:', giniTestKNNmy)"
      ],
      "metadata": {
        "id": "9IUoddVzjYJY",
        "colab": {
          "base_uri": "https://localhost:8080/"
        },
        "outputId": "2dae5737-29e4-4ddd-c6f5-8a218bb48cc0"
      },
      "execution_count": null,
      "outputs": [
        {
          "output_type": "stream",
          "name": "stdout",
          "text": [
            "Gini score my KNN:\n",
            "Train: 0.1010396853545128\n",
            "Valid: 0.12442210790210462\n",
            "Test: 0.12289145019766146\n"
          ]
        }
      ]
    },
    {
      "cell_type": "markdown",
      "source": [
        "*NaiveBayes*"
      ],
      "metadata": {
        "id": "rHGdC1rWinbz"
      }
    },
    {
      "cell_type": "code",
      "source": [
        "class GaussianNBMy:\n",
        "  def __init__(self) -> None:\n",
        "    self.classes_ = None\n",
        "    self.class_count_ = None\n",
        "    self.class_prior_ = None\n",
        "    self.mean_ = None\n",
        "    self.var_ = None\n",
        "\n",
        "\n",
        "  def fit(self, X, y):\n",
        "    self.classes_, self.class_count_ = np.unique(y, return_counts=True)\n",
        "    self.class_prior_ = self.class_count_ / len(y)\n",
        "    self.mean_ = []\n",
        "    self.var_ = []\n",
        "    eps = 1e-1\n",
        "\n",
        "    for cls in self.classes_:\n",
        "      self.mean_.append(np.mean(X[y == cls], axis=0))\n",
        "      self.var_.append(np.var(X[y==cls], axis=0))\n",
        "\n",
        "    self.mean_ = np.array(self.mean_)\n",
        "    self.var_ = np.array(self.var_)  + eps\n",
        "\n",
        "\n",
        "  def _prob_density(self, x, cls_i):\n",
        "    return (1 / np.sqrt(2 * np.pi * self.var_[cls_i]) * np.exp(-((x - self.mean_[cls_i])**2) / (2 * self.var_[cls_i])) )\n",
        "\n",
        "\n",
        "  def _calculate_posteriors(self, X):\n",
        "    posteriors = []\n",
        "    log_prior = np.log(self.class_prior_)\n",
        "    for cls_i in range(self.classes_.size):\n",
        "      pdf = np.clip(self._prob_density(X, cls_i), a_min=1e-2, a_max=None)\n",
        "      posteriors.append(self.class_prior_[cls_i] * np.prod(pdf, axis=1))\n",
        "    return posteriors\n",
        "\n",
        "\n",
        "  def predict(self, X):\n",
        "    posteriors = self._calculate_posteriors(X)\n",
        "    posteriors = np.array(posteriors)\n",
        "    return self.classes_[np.argmax(posteriors, axis=0)]"
      ],
      "metadata": {
        "id": "mtQ0rEYaiuR3"
      },
      "execution_count": null,
      "outputs": []
    },
    {
      "cell_type": "code",
      "source": [
        "gauss_my = GaussianNBMy()\n",
        "gauss_my.fit(X_train, y_train)\n",
        "y_gauss_train_my = gauss_my.predict(X_train)\n",
        "y_gauss_valid_my = gauss_my.predict(X_valid)\n",
        "y_gauss_test_my = gauss_my.predict(X_test)\n",
        "\n",
        "giniTrainGNB = 2 * roc_auc_score(y_train, y_gauss_train_my) - 1\n",
        "giniValidGNB = 2 * roc_auc_score(y_valid, y_gauss_valid_my) - 1\n",
        "giniTestGNB = 2 * roc_auc_score(y_test, y_gauss_test_my) - 1"
      ],
      "metadata": {
        "id": "ZjyyomQyilXQ"
      },
      "execution_count": null,
      "outputs": []
    },
    {
      "cell_type": "code",
      "source": [
        "print('Gini score my GaussianNB:')\n",
        "print('Train:', giniTrainGNB)\n",
        "print('Valid:', giniValidGNB)\n",
        "print('Test:', giniTestGNB)"
      ],
      "metadata": {
        "colab": {
          "base_uri": "https://localhost:8080/"
        },
        "id": "V_kVcNotE7sc",
        "outputId": "9059f83c-82ef-4150-8f77-85f537932dae"
      },
      "execution_count": null,
      "outputs": [
        {
          "output_type": "stream",
          "name": "stdout",
          "text": [
            "Gini score my GaussianNB:\n",
            "Train: 0.20678296012236852\n",
            "Valid: 0.19728960384727956\n",
            "Test: 0.2160831330040187\n"
          ]
        }
      ]
    },
    {
      "cell_type": "markdown",
      "source": [
        "7. Try to create non-linear features, for example:\n",
        "\n",
        "fractions: feature1/feature2\n",
        "groupby features: df[‘categorical_feature’].map(df.groupby(‘categorical_feature’)[‘continious_feature’].mean())\n",
        "\n",
        "Add new features to your pipeline, repeat step 4. Did you manage to increase your Gini score (you should!)?"
      ],
      "metadata": {
        "id": "9TMkiQa0xras"
      }
    },
    {
      "cell_type": "code",
      "source": [
        "train.info()"
      ],
      "metadata": {
        "colab": {
          "base_uri": "https://localhost:8080/"
        },
        "id": "RiQazyI7xyjN",
        "outputId": "ccb3b3fd-402b-47e4-fb03-3c868915f96c"
      },
      "execution_count": null,
      "outputs": [
        {
          "output_type": "stream",
          "name": "stdout",
          "text": [
            "<class 'pandas.core.frame.DataFrame'>\n",
            "Index: 24327 entries, 32367 to 15838\n",
            "Data columns (total 22 columns):\n",
            " #   Column                             Non-Null Count  Dtype  \n",
            "---  ------                             --------------  -----  \n",
            " 0   RefId                              24327 non-null  int64  \n",
            " 1   Auction                            24327 non-null  object \n",
            " 2   VehicleAge                         24327 non-null  int64  \n",
            " 3   Make                               24327 non-null  object \n",
            " 4   Color                              24319 non-null  object \n",
            " 5   Transmission                       24319 non-null  object \n",
            " 6   WheelType                          23402 non-null  object \n",
            " 7   VehOdo                             24327 non-null  int64  \n",
            " 8   Nationality                        24327 non-null  object \n",
            " 9   Size                               24327 non-null  object \n",
            " 10  TopThreeAmericanName               24327 non-null  object \n",
            " 11  MMRAcquisitionAuctionAveragePrice  24327 non-null  float64\n",
            " 12  MMRAcquisitionAuctionCleanPrice    24327 non-null  float64\n",
            " 13  MMRAcquisitionRetailAveragePrice   24327 non-null  float64\n",
            " 14  MMRAcquisitonRetailCleanPrice      24327 non-null  float64\n",
            " 15  MMRCurrentAuctionAveragePrice      24327 non-null  float64\n",
            " 16  MMRCurrentAuctionCleanPrice        24327 non-null  float64\n",
            " 17  MMRCurrentRetailAveragePrice       24327 non-null  float64\n",
            " 18  MMRCurrentRetailCleanPrice         24327 non-null  float64\n",
            " 19  VehBCost                           24327 non-null  float64\n",
            " 20  IsOnlineSale                       24327 non-null  int64  \n",
            " 21  WarrantyCost                       24327 non-null  int64  \n",
            "dtypes: float64(9), int64(5), object(8)\n",
            "memory usage: 4.3+ MB\n"
          ]
        }
      ]
    },
    {
      "cell_type": "code",
      "source": [
        "scaler = MinMaxScaler()\n",
        "train_feat = pd.DataFrame()\n",
        "valid_feat = pd.DataFrame()\n",
        "test_feat = pd.DataFrame()\n",
        "\n",
        "train_feat['MMRAcquisitionAuctionAveragePrice_div_VehicleAge'] = X_train['MMRAcquisitionAuctionAveragePrice'] / (X_train['VehicleAge'] + 1e-6)\n",
        "valid_feat['MMRAcquisitionAuctionAveragePrice_div_VehicleAge'] = X_valid['MMRAcquisitionAuctionAveragePrice'] / (X_valid['VehicleAge'] + 1e-6)\n",
        "test_feat['MMRAcquisitionAuctionAveragePrice_div_VehicleAge'] = X_test['MMRAcquisitionAuctionAveragePrice'] / (X_test['VehicleAge'] + 1e-6)\n",
        "\n",
        "train_feat['VehOdo_div_VehicleAge'] = X_train['VehOdo'] / (X_train['VehicleAge'] + 1e-6)\n",
        "valid_feat['VehOdo_div_VehicleAge'] = X_valid['VehOdo'] / (X_valid['VehicleAge'] + 1e-6)\n",
        "test_feat['VehOdo_div_VehicleAge'] = X_test['VehOdo'] / (X_test['VehicleAge'] + 1e-6)\n",
        "\n",
        "train_feat['MMRCurrentRetailAveragePrice_div_WarrantyCost'] = X_train['MMRCurrentRetailAveragePrice'] / (X_train['WarrantyCost'] + 1e-6)\n",
        "valid_feat['MMRCurrentRetailAveragePrice_div_WarrantyCost'] = X_valid['MMRCurrentRetailAveragePrice'] / (X_valid['WarrantyCost'] + 1e-6)\n",
        "test_feat['MMRCurrentRetailAveragePrice_div_WarrantyCost'] = X_test['MMRCurrentRetailAveragePrice'] / (X_test['WarrantyCost'] + 1e-6)\n",
        "\n",
        "grouped_make_train = train.groupby('Make')['MMRAcquisitionAuctionCleanPrice'].mean()\n",
        "grouped_make_valid = valid.groupby('Make')['MMRAcquisitionAuctionCleanPrice'].mean()\n",
        "grouped_make_test = test.groupby('Make')['MMRAcquisitionAuctionCleanPrice'].mean()\n",
        "train_feat['Make_MMRAcquisitionAuctionCleanPrice'] = train['Make'].map(grouped_make_train)\n",
        "valid_feat['Make_MMRAcquisitionAuctionCleanPrice'] = valid['Make'].map(grouped_make_valid)\n",
        "test_feat['Make_MMRAcquisitionAuctionCleanPrice'] = test['Make'].map(grouped_make_test)\n",
        "\n",
        "# X_train[['MMRAcquisitionAuctionAveragePrice_div_VehicleAge', 'VehOdo_div_VehicleAge', 'MMRCurrentRetailAveragePrice_div_WarrantyCost', ]] = \\\n",
        "#  scaler.fit_transform(X_train[['MMRAcquisitionAuctionAveragePrice_div_VehicleAge', 'VehOdo_div_VehicleAge', 'MMRCurrentRetailAveragePrice_div_WarrantyCost', ]])\n",
        "\n",
        "train_feat = pd.DataFrame(scaler.fit_transform(train_feat), index=train_feat.index, columns=train_feat.columns)\n",
        "valid_feat = pd.DataFrame(scaler.transform(valid_feat), index=valid_feat.index, columns=valid_feat.columns)\n",
        "test_feat = pd.DataFrame(scaler.transform(test_feat), index=test_feat.index, columns=test_feat.columns)\n",
        "\n",
        "train_common = pd.concat([X_train, train_feat], axis=1)\n",
        "valid_common = pd.concat([X_valid, valid_feat], axis=1)\n",
        "test_common = pd.concat([X_test, test_feat], axis=1)"
      ],
      "metadata": {
        "id": "q_2PR9Nm1zPC"
      },
      "execution_count": null,
      "outputs": []
    },
    {
      "cell_type": "markdown",
      "source": [
        "*LogisticRegression*"
      ],
      "metadata": {
        "id": "Mk1ue7AGCTKO"
      }
    },
    {
      "cell_type": "code",
      "source": [
        "logReg_nlf = LogisticRegression(random_state=42)\n",
        "logReg_nlf.fit(train_common, y_train)\n",
        "\n",
        "y_pred_train_lg_nlf = logReg_nlf.predict_proba(train_common)\n",
        "y_pred_valid_lg_nlf = logReg_nlf.predict_proba(valid_common)\n",
        "y_pred_test_lg_nlf = logReg_nlf.predict_proba(test_common)\n",
        "\n",
        "giniTrainLG_nlf = 2 * roc_auc_score(y_train, y_pred_train_lg_nlf[:, 1]) - 1\n",
        "giniValidLG_nlf = 2 * roc_auc_score(y_valid, y_pred_valid_lg_nlf[:, 1]) - 1\n",
        "giniTestLG_nlf = 2 * roc_auc_score(y_test, y_pred_test_lg_nlf[:, 1]) - 1\n",
        "\n",
        "print('Gini score Logistic Regression with non-linear features:')\n",
        "print('Train:', giniTrainLG_nlf)\n",
        "print('Valid:', giniValidLG_nlf)\n",
        "print('Test:', giniTestLG_nlf)"
      ],
      "metadata": {
        "colab": {
          "base_uri": "https://localhost:8080/"
        },
        "id": "lcWG6o5O_mRB",
        "outputId": "f05c7edf-83c1-43e7-d587-32fa09dbb816"
      },
      "execution_count": null,
      "outputs": [
        {
          "output_type": "stream",
          "name": "stdout",
          "text": [
            "Gini score Logistic Regression with non-linear features:\n",
            "Train: 0.5059022955593353\n",
            "Valid: 0.4784009290837663\n",
            "Test: 0.48955642834218316\n"
          ]
        }
      ]
    },
    {
      "cell_type": "code",
      "source": [
        "print('Gini score Logistic Regression:')\n",
        "print('Train:', giniTrainLG)\n",
        "print('Valid:', giniValidLG)\n",
        "print('Test:', giniTestLG)"
      ],
      "metadata": {
        "colab": {
          "base_uri": "https://localhost:8080/"
        },
        "outputId": "0010758c-3ec2-4a5e-8bf0-40c0d5ea2207",
        "id": "SaxPHgsp_mRC"
      },
      "execution_count": null,
      "outputs": [
        {
          "output_type": "stream",
          "name": "stdout",
          "text": [
            "Gini score Logistic Regression:\n",
            "Train: 0.5053060839414765\n",
            "Valid: 0.4786878179261531\n",
            "Test: 0.4895512041852712\n"
          ]
        }
      ]
    },
    {
      "cell_type": "markdown",
      "source": [
        "*GaussianNB*"
      ],
      "metadata": {
        "id": "a3L3Xmz9CKpa"
      }
    },
    {
      "cell_type": "code",
      "source": [
        "gaussNB_nlf = GaussianNB()\n",
        "gaussNB_nlf.fit(train_common, y_train)\n",
        "\n",
        "y_pred_train_gnb_nlf = gaussNB_nlf.predict_proba(train_common)\n",
        "y_pred_valid_gnb_nlf = gaussNB_nlf.predict_proba(valid_common)\n",
        "y_pred_test_gnb_nlf = gaussNB_nlf.predict_proba(test_common)\n",
        "\n",
        "giniTrainGNB_nlf = 2 * roc_auc_score(y_train, y_pred_train_gnb_nlf[:, 1]) - 1\n",
        "giniValidGNB_nlf = 2 * roc_auc_score(y_valid, y_pred_valid_gnb_nlf[:, 1]) - 1\n",
        "giniTestGNB_nlf = 2 * roc_auc_score(y_test, y_pred_test_gnb_nlf[:, 1]) - 1"
      ],
      "metadata": {
        "id": "aflx723eBVV9"
      },
      "execution_count": null,
      "outputs": []
    },
    {
      "cell_type": "code",
      "source": [
        "print('Gini score GaussianNB with non-linear features:')\n",
        "print('Train:', giniTrainGNB_nlf)\n",
        "print('Valid:', giniValidGNB_nlf)\n",
        "print('Test:', giniTestGNB_nlf)"
      ],
      "metadata": {
        "colab": {
          "base_uri": "https://localhost:8080/"
        },
        "outputId": "a31b8aec-ce85-4193-9124-94d77e3f2274",
        "id": "BgVBtd7tBVV-"
      },
      "execution_count": null,
      "outputs": [
        {
          "output_type": "stream",
          "name": "stdout",
          "text": [
            "Gini score GaussianNB with non-linear features:\n",
            "Train: 0.43296992404094437\n",
            "Valid: 0.3819719290393815\n",
            "Test: 0.3860872274369984\n"
          ]
        }
      ]
    },
    {
      "cell_type": "code",
      "source": [
        "print('Gini score GaussianNB:')\n",
        "print('Train:', giniTrainGNB)\n",
        "print('Valid:', giniValidGNB)\n",
        "print('Test:', giniTestGNB)"
      ],
      "metadata": {
        "colab": {
          "base_uri": "https://localhost:8080/"
        },
        "id": "F2fK-VBsByHT",
        "outputId": "d0e4f363-3f4a-48a9-d15f-a7aa9ae00ac2"
      },
      "execution_count": null,
      "outputs": [
        {
          "output_type": "stream",
          "name": "stdout",
          "text": [
            "Gini score GaussianNB:\n",
            "Train: 0.20678296012236852\n",
            "Valid: 0.19728960384727956\n",
            "Test: 0.2160831330040187\n"
          ]
        }
      ]
    },
    {
      "cell_type": "markdown",
      "source": [
        "*KNN*"
      ],
      "metadata": {
        "id": "WSYS0JaBCHbK"
      }
    },
    {
      "cell_type": "code",
      "source": [
        "knn_nlf = KNeighborsClassifier()\n",
        "knn_nlf.fit(train_common, y_train)\n",
        "\n",
        "y_pred_train_knn_nlf = knn_nlf.predict_proba(train_common)\n",
        "y_pred_valid_knn_nlf = knn_nlf.predict_proba(valid_common)\n",
        "y_pred_test_knn_nlf = knn_nlf.predict_proba(test_common)\n",
        "\n",
        "giniTrainKNN_nlf = 2 * roc_auc_score(y_train, y_pred_train_knn_nlf[:, 1]) - 1\n",
        "giniValidKNN_nlf = 2 * roc_auc_score(y_valid, y_pred_valid_knn_nlf[:, 1]) - 1\n",
        "giniTestKNN_nlf = 2 * roc_auc_score(y_test, y_pred_test_knn_nlf[:, 1]) - 1"
      ],
      "metadata": {
        "id": "cofXJPucCmNU"
      },
      "execution_count": null,
      "outputs": []
    },
    {
      "cell_type": "code",
      "source": [
        "print('Gini score KNN with non-linear featurs:')\n",
        "print('Train:', giniTrainKNN_nlf)\n",
        "print('Valid:', giniValidKNN_nlf)\n",
        "print('Test:', giniTestKNN_nlf)"
      ],
      "metadata": {
        "colab": {
          "base_uri": "https://localhost:8080/"
        },
        "outputId": "e4fec179-75e3-4022-aed6-e32b6fa332b3",
        "id": "giwFtmlrCmNV"
      },
      "execution_count": null,
      "outputs": [
        {
          "output_type": "stream",
          "name": "stdout",
          "text": [
            "Gini score KNN with non-linear featurs:\n",
            "Train: 0.8135660399192184\n",
            "Valid: 0.26805237213315003\n",
            "Test: 0.26063244203308145\n"
          ]
        }
      ]
    },
    {
      "cell_type": "code",
      "source": [
        "print('Gini score KNN:')\n",
        "print('Train:', giniTrainKNN)\n",
        "print('Valid:', giniValidKNN)\n",
        "print('Test:', giniTestKNN)"
      ],
      "metadata": {
        "colab": {
          "base_uri": "https://localhost:8080/"
        },
        "id": "lmO4N_6jFJZn",
        "outputId": "643bc5b6-d1a9-40aa-9589-9e7b60304276"
      },
      "execution_count": null,
      "outputs": [
        {
          "output_type": "stream",
          "name": "stdout",
          "text": [
            "Gini score KNN:\n",
            "Train: 0.8141329977749521\n",
            "Valid: 0.2731743460383025\n",
            "Test: 0.2622217362927062\n"
          ]
        }
      ]
    },
    {
      "cell_type": "markdown",
      "source": [
        "8. Determine the best features for the problem using the coefficients of the logistic model. Try to eliminate useless features by hand and by L1 regularization. Which approach is better in terms of Gini score?"
      ],
      "metadata": {
        "id": "I0k6_JoGI2G0"
      }
    },
    {
      "cell_type": "markdown",
      "source": [
        "*Eliminate useless features by hand*"
      ],
      "metadata": {
        "id": "80ofUErWt1x6"
      }
    },
    {
      "cell_type": "code",
      "source": [
        "coeffs = logReg.coef_[0]\n",
        "feat_coeffs = pd.DataFrame({'features': X_train.columns, 'coeff': np.abs(coeffs)})\n",
        "feat_coeffs = feat_coeffs.sort_values(by=['coeff'], ascending=False)\n",
        "\n",
        "feature_hand = feat_coeffs[feat_coeffs['coeff'] > 0.3]['features'].to_list()"
      ],
      "metadata": {
        "id": "d0ZmqHrQI5H1"
      },
      "execution_count": null,
      "outputs": []
    },
    {
      "cell_type": "markdown",
      "source": [
        "*LogisticRegression*"
      ],
      "metadata": {
        "id": "2CM01vhmpLfN"
      }
    },
    {
      "cell_type": "code",
      "source": [
        "logReg_hand = LogisticRegression(random_state=42)\n",
        "logReg_hand.fit(X_train[feature_hand], y_train)\n",
        "\n",
        "y_pred_train_lg_hand = logReg_hand.predict_proba(X_train[feature_hand])\n",
        "y_pred_valid_lg_hand = logReg_hand.predict_proba(X_valid[feature_hand])\n",
        "y_pred_test_lg_hand = logReg_hand.predict_proba(X_test[feature_hand])\n",
        "\n",
        "giniTrainLG_hand = 2 * roc_auc_score(y_train, y_pred_train_lg_hand[:, 1]) - 1\n",
        "giniValidLG_hand = 2 * roc_auc_score(y_valid, y_pred_valid_lg_hand[:, 1]) - 1\n",
        "giniTestLG_hand = 2 * roc_auc_score(y_test, y_pred_test_lg_hand[:, 1]) - 1\n",
        "\n",
        "print('Gini score Logistic Regression with top features (by hand):')\n",
        "print('Train:', giniTrainLG_hand)\n",
        "print('Valid:', giniValidLG_hand)\n",
        "print('Test:', giniTestLG_hand)"
      ],
      "metadata": {
        "colab": {
          "base_uri": "https://localhost:8080/"
        },
        "outputId": "a852cd0e-1111-4c02-a146-a2a25666fe38",
        "id": "89djqg83pI3o"
      },
      "execution_count": null,
      "outputs": [
        {
          "output_type": "stream",
          "name": "stdout",
          "text": [
            "Gini score Logistic Regression with top features (by hand):\n",
            "Train: 0.496012329928849\n",
            "Valid: 0.47975099422440914\n",
            "Test: 0.4880849574786277\n"
          ]
        }
      ]
    },
    {
      "cell_type": "code",
      "source": [
        "print('Gini score Logistic Regression:')\n",
        "print('Train:', giniTrainLG)\n",
        "print('Valid:', giniValidLG)\n",
        "print('Test:', giniTestLG)"
      ],
      "metadata": {
        "colab": {
          "base_uri": "https://localhost:8080/"
        },
        "outputId": "b83914a2-c999-409e-f624-c48509108feb",
        "id": "D-o9p9jYpI3p"
      },
      "execution_count": null,
      "outputs": [
        {
          "output_type": "stream",
          "name": "stdout",
          "text": [
            "Gini score Logistic Regression:\n",
            "Train: 0.5053060839414765\n",
            "Valid: 0.4786878179261531\n",
            "Test: 0.4895512041852712\n"
          ]
        }
      ]
    },
    {
      "cell_type": "markdown",
      "source": [
        "*eliminate useless features by L1 regularization*"
      ],
      "metadata": {
        "id": "rCUuBG2zxAaW"
      }
    },
    {
      "cell_type": "code",
      "source": [
        "logReg_l1 = LogisticRegression(penalty='l1', solver='liblinear', random_state=42)\n",
        "logReg_l1.fit(X_train, y_train)\n",
        "l1_coefficients = logReg_l1.coef_[0]\n",
        "features_l1 = X_train.columns[np.where(l1_coefficients != 0)]"
      ],
      "metadata": {
        "id": "i-9x4MA8xLzO"
      },
      "execution_count": null,
      "outputs": []
    },
    {
      "cell_type": "code",
      "source": [
        "y_pred_train_l1 = logReg_l1.predict_proba(X_train)\n",
        "y_pred_valid_l1 = logReg_l1.predict_proba(X_valid)\n",
        "y_pred_test_l1 = logReg_l1.predict_proba(X_test)\n",
        "\n",
        "print('Gini score Logistic Regression with top features (by l1):')\n",
        "print('Train:', Gini_score(y_train, y_pred_train_l1[:, 1]))\n",
        "print('Valid:', Gini_score(y_valid, y_pred_valid_l1[:, 1]))\n",
        "print('Test:', Gini_score(y_test, y_pred_test_l1[:, 1]))"
      ],
      "metadata": {
        "colab": {
          "base_uri": "https://localhost:8080/"
        },
        "id": "x3waGyXN4e2f",
        "outputId": "28af899d-8d51-4154-b3ce-4132f601408d"
      },
      "execution_count": null,
      "outputs": [
        {
          "output_type": "stream",
          "name": "stdout",
          "text": [
            "Gini score Logistic Regression with top features (by l1):\n",
            "Train: 0.5066765562112203\n",
            "Valid: 0.4823711361329823\n",
            "Test: 0.4953879867837536\n"
          ]
        }
      ]
    },
    {
      "cell_type": "markdown",
      "source": [
        "Ручной отбор признаков и l1 регуляризация работают примерно с одинаковым качеством"
      ],
      "metadata": {
        "id": "FUDsZncb7AsM"
      }
    },
    {
      "cell_type": "markdown",
      "source": [
        "10. Select your best model (algorithm + feature set) and tweak its hyperparameters to increase the Gini score on the validation dataset. Which hyperparameters have the most impact?"
      ],
      "metadata": {
        "id": "TXSMUSX07QPA"
      }
    },
    {
      "cell_type": "code",
      "source": [
        "param_grid = {\n",
        "    'C': [0.01, 0.1, 1]\n",
        "}\n",
        "\n",
        "gini_scorer = make_scorer(Gini_score, greater_is_better=True)\n",
        "grid_search = GridSearchCV(estimator=logReg_l1, param_grid=param_grid, scoring=gini_scorer)\n",
        "grid_search.fit(X_valid, y_valid)\n",
        "print(\"Лучшие гиперпараметры: \", grid_search.best_params_)"
      ],
      "metadata": {
        "id": "lXN5PRM-7wN6",
        "colab": {
          "base_uri": "https://localhost:8080/"
        },
        "outputId": "86ce9658-5533-4e26-be11-606b928aa9b6"
      },
      "execution_count": null,
      "outputs": [
        {
          "output_type": "stream",
          "name": "stdout",
          "text": [
            "Лучшие гиперпараметры:  {'C': 1}\n"
          ]
        }
      ]
    },
    {
      "cell_type": "markdown",
      "source": [
        "11. Check the Gini scores on all three datasets for your best model: training Gini, valid Gini, test Gini. Do you see a drop in performance when comparing the valid quality to the test quality? Is your model overfitted or not? Explain.\n"
      ],
      "metadata": {
        "id": "4hZaoYuAhFa1"
      }
    },
    {
      "cell_type": "code",
      "source": [
        "y_train_best = grid_search.best_estimator_.predict_proba(X_train)\n",
        "y_valid_best = grid_search.best_estimator_.predict_proba(X_valid)\n",
        "y_test_best = grid_search.best_estimator_.predict_proba(X_test)\n",
        "\n",
        "print('Gini score train:', Gini_score(y_train, y_train_best[:, 1]))\n",
        "print('Gini score valid:', Gini_score(y_valid, y_valid_best[:, 1]))\n",
        "print('Gini score test:', Gini_score(y_test, y_test_best[:, 1]))"
      ],
      "metadata": {
        "id": "XDDypNKAz9zU",
        "colab": {
          "base_uri": "https://localhost:8080/"
        },
        "outputId": "cce21f60-1a50-4f6e-f58d-9d8aba18b4a8"
      },
      "execution_count": null,
      "outputs": [
        {
          "output_type": "stream",
          "name": "stdout",
          "text": [
            "Gini score train: 0.4654406858198805\n",
            "Gini score valid: 0.529588529416456\n",
            "Gini score test: 0.48471506530864694\n"
          ]
        }
      ]
    },
    {
      "cell_type": "code",
      "source": [],
      "metadata": {
        "id": "PeAJSAWaCAPP"
      },
      "execution_count": null,
      "outputs": []
    },
    {
      "cell_type": "markdown",
      "source": [
        "Модель не переобучена, поскольку наблюдается незначительное расхождение Gini score у тестовой выборки с тренировочной и валидационной."
      ],
      "metadata": {
        "id": "Cxa5b38NqDO9"
      }
    },
    {
      "cell_type": "markdown",
      "source": [
        "12. Implement calculation or Recall, Precision, F1 score and AUC PR metrics.\n",
        "Compare your algorithms on the test dataset using AUC PR metric."
      ],
      "metadata": {
        "id": "XONAooQPhZgl"
      }
    },
    {
      "cell_type": "code",
      "source": [
        "def recall(y_true, y_pred):\n",
        "  TP = np.sum((y_true == 1) & (y_pred == 1))\n",
        "  FN = np.sum((y_true == 1) & (y_pred == 0))\n",
        "\n",
        "  return TP / (TP + FN) if (TP + FN) > 0 else 0.0"
      ],
      "metadata": {
        "id": "67-MD33AiLb-"
      },
      "execution_count": null,
      "outputs": []
    },
    {
      "cell_type": "code",
      "source": [
        "def precision(y_true, y_pred):\n",
        "  TP = np.sum((y_true == 1) & (y_pred == 1))\n",
        "  FP = np.sum((y_true == 0) & (y_pred == 1))\n",
        "\n",
        "  return TP / (TP + FP) if (TP + FP) > 0 else 0.0"
      ],
      "metadata": {
        "id": "ugZASoLjqAq4"
      },
      "execution_count": null,
      "outputs": []
    },
    {
      "cell_type": "code",
      "source": [
        "def f1_score_my(y_true, y_pred):\n",
        "  TP = np.sum((y_true == 1) & (y_pred == 1))\n",
        "  FN = np.sum((y_true == 1) & (y_pred == 0))\n",
        "  FP = np.sum((y_true == 0) & (y_pred == 1))\n",
        "\n",
        "  return TP / (TP + (FP + FN) / 2) if (TP + (FP + FN) / 2) > 0 else 0.0"
      ],
      "metadata": {
        "id": "7ZL9ApAkqhM8"
      },
      "execution_count": null,
      "outputs": []
    },
    {
      "cell_type": "code",
      "source": [
        "def auc_pr(y_true, y_score):\n",
        "  df_score_class = pd.DataFrame({'y_score': y_score, 'y_true': y_true})\n",
        "  df_score_class = df_score_class.sort_values(by='y_score', ascending=False)\n",
        "\n",
        "  n_pos = np.sum(y_true)\n",
        "\n",
        "  tp = np.cumsum(df_score_class['y_true'])\n",
        "  fp = np.cumsum(1 - df_score_class['y_true'])\n",
        "  fn = n_pos - tp\n",
        "\n",
        "  recall = np.where((tp + fn) == 0, 0, (tp / (tp + fn)))\n",
        "  precision = np.where((tp + fp) == 0, 0, (tp / (tp + fp)))\n",
        "\n",
        "  return auc(recall, precision)"
      ],
      "metadata": {
        "id": "w9M0jc3fjtq6"
      },
      "execution_count": null,
      "outputs": []
    },
    {
      "cell_type": "code",
      "source": [
        "print('AUC PR:', auc_pr(y_test, y_test_best))"
      ],
      "metadata": {
        "id": "OoxMP2OJzvDX",
        "colab": {
          "base_uri": "https://localhost:8080/"
        },
        "outputId": "e69b2f7b-0a70-4d5b-b08a-3f4bd3f5893a"
      },
      "execution_count": null,
      "outputs": [
        {
          "output_type": "stream",
          "name": "stdout",
          "text": [
            "AUC PR: 0.3202488755010808\n"
          ]
        }
      ]
    },
    {
      "cell_type": "markdown",
      "source": [
        "13. Which hard label metric do you prefer for the task of detecting \"lemon\" cars?"
      ],
      "metadata": {
        "id": "ic55FlNlhbR7"
      }
    },
    {
      "cell_type": "markdown",
      "source": [
        "\"lemon\" cars это бракованные автомомобили. Для выявления максимального количества бракованных автомобилей необходимо ориентироваться на ложноотрицательные результаты, которые выявляются с помощью метрики recall"
      ],
      "metadata": {
        "id": "FQcWX4rZuW0W"
      }
    }
  ]
}